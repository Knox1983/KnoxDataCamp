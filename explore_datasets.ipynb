{
  "nbformat": 4,
  "nbformat_minor": 0,
  "metadata": {
    "colab": {
      "provenance": [],
      "authorship_tag": "ABX9TyPTwU1Er8BS9MSvXcFzaP3v",
      "include_colab_link": true
    },
    "kernelspec": {
      "name": "python3",
      "display_name": "Python 3"
    },
    "language_info": {
      "name": "python"
    }
  },
  "cells": [
    {
      "cell_type": "markdown",
      "metadata": {
        "id": "view-in-github",
        "colab_type": "text"
      },
      "source": [
        "<a href=\"https://colab.research.google.com/github/Knox1983/KnoxDataCamp/blob/main/explore_datasets.ipynb\" target=\"_parent\"><img src=\"https://colab.research.google.com/assets/colab-badge.svg\" alt=\"Open In Colab\"/></a>"
      ]
    },
    {
      "cell_type": "code",
      "execution_count": null,
      "metadata": {
        "id": "SFxg7Wqea-gD"
      },
      "outputs": [],
      "source": [
        "import pandas as pd\n"
      ]
    },
    {
      "cell_type": "code",
      "source": [
        "malicious_df = pd.read_csv('malicious_phish.csv')\n",
        "malicious_df.head()"
      ],
      "metadata": {
        "id": "8P2IE_xhb_Mv"
      },
      "execution_count": null,
      "outputs": []
    },
    {
      "cell_type": "code",
      "source": [
        "print(\"Numbers of rows:\", len(malicious_df))\n",
        "print(\"Columns:\", malicious_df.columns.tolist()\n",
        "print(malicious_df['type'].pd.value_counts())"
      ],
      "metadata": {
        "id": "OpvyR32PcGlO"
      },
      "execution_count": null,
      "outputs": []
    },
    {
      "cell_type": "code",
      "source": [
        "binary_df = pd.read_csv('benign_vs_malicious_sample.csv')\n",
        "binary_df.head()"
      ],
      "metadata": {
        "id": "iuyDYAAJcep8"
      },
      "execution_count": null,
      "outputs": []
    },
    {
      "cell_type": "code",
      "source": [
        "print(\"Rows:\", len(binary_df))\n",
        "print(binary_df['label'].value_counts())\n",
        "binary_df['url_length'] = binary_df['url'].apply(len)\n",
        "binary_df[['url_length']].describe()\n"
      ],
      "metadata": {
        "id": "6ZdtZPT3c1ze"
      },
      "execution_count": null,
      "outputs": []
    },
    {
      "cell_type": "code",
      "source": [
        "with open('openphish.txt') as f:\n",
        "    openphish_urls = f.read().readlines()\n",
        "print(\"Total URLs:\", len(openphish_urls))\n",
        "print(\"First 5 examples:\")\n",
        "print(openphish_urls[:5])"
      ],
      "metadata": {
        "id": "hO_g4wvqc4Dz"
      },
      "execution_count": null,
      "outputs": []
    },
    {
      "cell_type": "markdown",
      "source": [],
      "metadata": {
        "id": "W99nkceFcGbP"
      }
    },
    {
      "cell_type": "markdown",
      "source": [],
      "metadata": {
        "id": "i_ZZi24Kcdfq"
      }
    },
    {
      "cell_type": "markdown",
      "source": [],
      "metadata": {
        "id": "EMMOOB5jcF8E"
      }
    }
  ]
}